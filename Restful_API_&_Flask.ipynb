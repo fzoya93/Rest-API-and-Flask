{
  "cells": [
    {
      "cell_type": "markdown",
      "metadata": {
        "id": "RrJDC4TbK7pa"
      },
      "source": []
    },
    {
      "cell_type": "markdown",
      "metadata": {
        "id": "OHzv2Oo-K9cy"
      },
      "source": [
        "# Theoretical Questions..."
      ]
    },
    {
      "cell_type": "markdown",
      "metadata": {
        "id": "6UovA1OlLJcB"
      },
      "source": [
        "**#1)  What is a RESTful API?**\n",
        "\n",
        "**Ans 1)** A RESTful API (Representational State Transfer API) is a way for two systems (usually a client and a server) to communicate with each other over the HTTP protocol. It's based on REST architecture, which is a set of principles for designing networked applications.\n"
      ]
    },
    {
      "cell_type": "markdown",
      "metadata": {
        "id": "w1zu-wqwL4HN"
      },
      "source": [
        "**#2)  Explain the concept of API specification?**\n",
        "\n",
        "**Ans 2)** An API specification is like a blueprint or a set of rules that tells developers how software applications should communicate with each other using an API (Application Programming Interface)."
      ]
    },
    {
      "cell_type": "markdown",
      "metadata": {
        "id": "Hk7fDYJgMSCz"
      },
      "source": [
        "**#3)  What is Flask, and why is it popular for building APIs?**\n",
        "\n",
        "**Ans 3) What is Flask?**\n",
        "\n",
        "Flask is a micro-framework, which means it doesn’t come with built-in tools like database support or form validation — but you can add them as needed.\n",
        "\n",
        "It is built on top of Werkzeug (a WSGI toolkit) and uses Jinja2 for templating.\n",
        "\n",
        "**Why is Flask Popular for Building APIs?**\n",
        "\n",
        "**Lightweight & Simple**\n",
        "\n",
        "Flask has a minimal and clean structure.\n",
        "\n",
        "Easy to understand and quick to get started — perfect for beginners.\n",
        "\n",
        "**Flexibility**\n",
        "\n",
        "You can structure your project the way you want.\n",
        "\n",
        "You have full control over how your API behaves.\n",
        "\n",
        "**Built-in Development Server**\n",
        "\n",
        "Flask comes with a built-in server for testing and debugging.\n",
        "\n",
        "**REST-Friendly Routing**\n",
        "\n",
        "Flask makes it easy to define RESTful routes with decorators like @app.route().\n",
        "\n",
        "\n",
        "\n"
      ]
    },
    {
      "cell_type": "markdown",
      "metadata": {
        "id": "Jgn-r1PkNJgR"
      },
      "source": [
        "**# 4) What is routing in Flask?**\n",
        "\n",
        "**Ans 4)** Routing in Flask is the process of mapping URLs (web addresses) to functions in your Python code. These functions (called view functions) define what should happen when someone visits a specific page or sends a request to a certain URL.\n",
        "\n",
        "**How Routing Works**\n",
        "\n",
        "In Flask, you define routes using the @app.route() decorator.\n",
        "This tells Flask:\n",
        "\n",
        "“When a user visits this URL, run this function.”"
      ]
    },
    {
      "cell_type": "markdown",
      "metadata": {
        "id": "zCayAAuYNi8o"
      },
      "source": [
        "**# 5)  How do you create a simple Flask application?**\n",
        "\n",
        "**Ans 5)** o create a simple Flask application, you first need to install Flask using the command pip install flask. After installing, you create a new Python file, commonly named app.py, and start by importing the Flask module. Then, you create an instance of the Flask application using app = Flask(__name__). Next, you define a route using the @app.route() decorator, which tells Flask what function to run when a specific URL is visited. For example, defining a route for '/' (the home page) and linking it to a function that returns a message like \"Hello, Flask!\" will display that message when someone accesses the root URL. Finally, at the bottom of the file, you add if __name__ == '__main__': app.run(debug=True) to run the application in debug mode, which helps with error tracking. Once this script is saved, you run it from the terminal using python app.py, and then open a web browser to http://localhost:5000/ to see your Flask app in action. This simple setup is the foundation for building more advanced web applications and APIs using Flask."
      ]
    },
    {
      "cell_type": "markdown",
      "metadata": {
        "id": "gRYlt-PxN2lh"
      },
      "source": [
        "**# 6)  What are HTTP methods used in RESTful APIs?**\n",
        "\n",
        "**Ans 6)** In RESTful APIs, HTTP methods (also called verbs) define the type of operation you want to perform on a resource (like data stored on a server). These methods follow the standard HTTP protocol and make it easy to build predictable and consistent APIs.\n",
        "\n"
      ]
    },
    {
      "cell_type": "markdown",
      "metadata": {
        "id": "RX12ooSAOH8N"
      },
      "source": [
        "**# 7) What is the purpose of the @app.route() decorator in Flask?**\n",
        "\n",
        "**Ans 7)** The purpose of the @app.route() decorator in Flask is to bind a specific URL (or route) to a function, so that when a user visits that URL in the browser or sends a request to it, Flask knows which function to execute in response.\n",
        "\n"
      ]
    },
    {
      "cell_type": "markdown",
      "metadata": {
        "id": "ajR3ePDhW8Zn"
      },
      "source": [
        "**# 8) What is the difference between GET and POST HTTP methods?**\n",
        "\n",
        "**Ans 8) GET Method:**\n",
        "\n",
        "**Purpose:**\n",
        "\n",
        "Used to retrieve data from the server.\n",
        "\n",
        "**Request Data Location:**\n",
        "Parameters are sent in the URL (query string).\n",
        "Example:\n",
        "https://example.com/api/user?id=123\n",
        "\n",
        "**Visibility:**\n",
        "\n",
        "Data is visible in the URL, so it's not secure for sensitive information.\n",
        "\n",
        "POST Method:**\n",
        "\n",
        "**Purpose:**\n",
        "\n",
        "Used to send data to the server to create or update resources.\n",
        "\n",
        "\n",
        "**Request Data Location:**\n",
        "Data is sent in the request body, not visible in the URL.\n",
        "\n",
        "**Visibility:**\n",
        "\n",
        "Data is not visible in the URL – more secure for sensitive information.\n",
        "\n",
        "**Caching:**\n",
        "\n",
        "POST requests are not cached and cannot be bookmarked.\n",
        "\n",
        "**Idempotent:**\n",
        "\n",
        "No – multiple POST requests can create duplicate entries or have different effects.\n",
        "\n",
        "\n"
      ]
    },
    {
      "cell_type": "markdown",
      "metadata": {
        "id": "NQPoi4V-ZI8A"
      },
      "source": [
        "**#9) How do you handle errors in Flask APIs?**\n",
        "\n",
        "\n",
        "Ans 9)In Flask APIs, error handling is crucial for providing clear feedback to users and maintaining the stability of the application. Errors can be managed using the @app.errorhandler() decorator, which allows custom responses for common HTTP error codes like 404 (Not Found) or 500 (Internal Server Error). This makes it easier to inform the client what went wrong in a structured format, such as a JSON response."
      ]
    },
    {
      "cell_type": "markdown",
      "metadata": {
        "id": "qKUiomfpZcKh"
      },
      "source": [
        "**#10)  How do you connect Flask to a SQL database**?\n",
        "\n",
        "**Ans 10)** To connect Flask to a SQL database, you typically use an ORM (Object Relational Mapper) like SQLAlchemy or directly use a database driver like SQLite, MySQL, or PostgreSQL. Here's how it’s commonly done using Flask-SQLAlchemy, a popular extension that simplifies database integration:\n",
        "\n"
      ]
    },
    {
      "cell_type": "markdown",
      "metadata": {
        "id": "h1uBjdPuZvA-"
      },
      "source": [
        "**#11)  What is the role of Flask-SQLAlchemy**?\n",
        "\n",
        "**Ans 11) Flask-SQLAlchemy plays a crucial role in integrating Flask with SQL databases by providing a powerful and easy-to-use Object Relational Mapper (ORM) based on SQLAlchemy. Its main purpose is to simplify the process of working with databases in Flask applications. Instead of writing raw SQL queries, developers can define Python classes (called models) that represent database tables, and use Python code to perform operations like create, read, update, and delete (CRUD) on the database."
      ]
    },
    {
      "cell_type": "markdown",
      "metadata": {
        "id": "lnLulv1KZ-BW"
      },
      "source": [
        "**#12)  What are Flask blueprints, and how are they useful?**\n",
        "\n",
        "**Ans 12)** Flask Blueprints are a powerful feature in Flask that allow you to organize your application into smaller, reusable components or modules. They help you split a large Flask app into multiple files or packages, making the codebase more manageable, scalable, and modular.\n",
        "\n"
      ]
    },
    {
      "cell_type": "markdown",
      "metadata": {
        "id": "_vCcoEZCaOmg"
      },
      "source": [
        "**#13) What is the purpose of Flask's request object**.\n",
        "\n",
        "**Ans 13)** The purpose of Flask’s request object is to provide access to all the incoming request data sent by the client (such as a browser, mobile app, or API tool) when making an HTTP request to the Flask application.\n",
        "\n"
      ]
    },
    {
      "cell_type": "markdown",
      "metadata": {
        "id": "AI4otIqKafdK"
      },
      "source": [
        "**#14) How do you create a RESTful API endpoint using Flask?**\n",
        "\n",
        "**Ans 14)** To create a RESTful API endpoint using Flask, you first set up a Flask application and then define routes using the @app.route() decorator, specifying the URL path and the HTTP method (such as GET, POST, PUT, or DELETE). Each route corresponds to a specific API function, like retrieving data, creating new records, updating existing ones, or deleting items. Within each route function, you use Flask’s request object to access incoming data (like form inputs or JSON) and the jsonify() function to return structured JSON responses."
      ]
    },
    {
      "cell_type": "markdown",
      "metadata": {
        "id": "N7a-a2yva4HV"
      },
      "source": [
        "**#15) What is the purpose of Flask's jsonify() function?**\n",
        "\n",
        "**Ans 15)** The purpose of Flask’s jsonify() function is to convert Python data structures (like dictionaries or lists) into JSON format and return them as a proper HTTP response with the correct Content-Type header (application/json).\n",
        "\n"
      ]
    },
    {
      "cell_type": "markdown",
      "metadata": {
        "id": "5U6h08m5bFMP"
      },
      "source": [
        "**#16)  Explain Flask’s url_for() function**.\n",
        "\n",
        "**Ans 16)** The url_for() function in Flask is used to dynamically build URLs for routes (endpoints) in your application. Instead of hardcoding URLs, you use url_for() by passing the name of the view function, and Flask automatically generates the correct URL path. This makes your code more flexible, maintainable, and less error-prone, especially when URLs change."
      ]
    },
    {
      "cell_type": "markdown",
      "metadata": {
        "id": "O1Ua3AZdbSr0"
      },
      "source": [
        "**#17)  How does Flask handle static files (CSS, JavaScript, etc.)?**\n",
        "\n",
        "**Ans 17)** Flask handles static files such as CSS, JavaScript, and images using a dedicated folder named static. By default, any files placed in this folder can be accessed through the /static URL path. When building web pages, developers can include these static files by linking to them in HTML templates using Flask’s url_for('static', filename='...') function, which ensures the correct URL is generated even if the application is deployed in a different environment. For example, a CSS file located at static/style.css would be accessed in the browser at /static/style.css. This built-in mechanism makes it easy to organize and serve static resources efficiently, keeping them separate from the dynamic parts of the application."
      ]
    },
    {
      "cell_type": "markdown",
      "metadata": {
        "id": "mycUOi7lbmhY"
      },
      "source": [
        "**#18) What is an API specification, and how does it help in building a Flask API?**\n",
        "\n",
        "**Ans 18)** An API specification is a detailed document or blueprint that describes how an API works. It defines the structure of the API, including the endpoints, HTTP methods (GET, POST, etc.), input parameters, request/response formats, data types, and error messages. A well-written API specification acts as a contract between the backend developers and the frontend or third-party users of the API."
      ]
    },
    {
      "cell_type": "markdown",
      "metadata": {
        "id": "cn8AkcW8b9te"
      },
      "source": [
        "**#19)  What are HTTP status codes, and why are they important in a Flask API?**\n",
        "\n",
        "**Ans 19)** HTTP status codes are standardized 3-digit codes sent by a server in response to a client's request to indicate the result of that request. They are part of the HTTP protocol and help communicate whether a request was successful, resulted in an error, or requires further action. In a Flask API, using the correct status codes is important because it helps clients (like browsers, mobile apps, or other services) understand the outcome of their requests and handle them appropriately.\n",
        "\n",
        "**✅ Common Categories of HTTP Status Codes:**\n",
        "\n",
        "**1xx (Informational):** Request received, continuing process.\n",
        "\n",
        "**2xx (Success):** Request was successfully received and processed.\n",
        "\n",
        "**200 OK:** Standard response for success.\n",
        "\n",
        "**201 Created:** Used when a new resource is created (e.g., POST request).\n",
        "\n",
        "**3xx (Redirection):** Further action needs to be taken.\n",
        "\n",
        "**4xx (Client Error):** The request has a problem (e.g., bad data or unauthorized access).\n",
        "\n"
      ]
    },
    {
      "cell_type": "markdown",
      "metadata": {
        "id": "v4GFHtyZcvuI"
      },
      "source": [
        "**#20) How do you handle POST requests in Flask?**\n",
        "\n",
        "**Ans 20)** In Flask, you handle POST requests by creating a route that listens for the POST method and uses the request object to access the incoming data. POST requests are typically used to send data to the server, such as form inputs or JSON payloads, for creating or updating resources.\n",
        "\n"
      ]
    },
    {
      "cell_type": "markdown",
      "metadata": {
        "id": "lavaPXBlc-wN"
      },
      "source": [
        "**#21)  How would you secure a Flask API?**\n",
        "\n",
        "**Ans 21)** Securing a Flask API is essential to protect data, authenticate users, and prevent unauthorized access or malicious attacks.\n",
        "\n",
        "**Use Authentication and Authorization**\n",
        "\n",
        "Token-based authentication (like JWT): Only allow access to users with valid tokens.\n",
        "\n",
        "API keys: Require a key for accessing protected routes.\n",
        "\n",
        "OAuth2: Use for third-party authentication (e.g., Google, Facebook)."
      ]
    },
    {
      "cell_type": "markdown",
      "metadata": {
        "id": "Tm-rW6rxdVIO"
      },
      "source": [
        "**#22)  What is the significance of the Flask-RESTful extension?**\n",
        "\n",
        "**Ans 22)** The Flask-RESTful extension is significant because it simplifies the process of building RESTful APIs in Flask by providing a more structured and object-oriented approach. Instead of using raw Flask routes and manually handling HTTP methods, Flask-RESTful allows developers to create API resources as Python classes, where each HTTP method (GET, POST, PUT, DELETE) is defined as a class method. This makes the code more organized, readable, and reusable, especially for large applications.\n",
        "\n"
      ]
    },
    {
      "cell_type": "markdown",
      "metadata": {
        "id": "P3Fc7lbEdlFL"
      },
      "source": [
        "**#23)  What is the role of Flask’s session object?**\n",
        "\n",
        "**Ans 23)** The session object in Flask is used to store data about a user across multiple requests—allowing the web application to remember information (like login status or user preferences) as the user navigates between pages. It works like a temporary storage space on the server side that keeps track of user-specific data.\n",
        "\n",
        "\n"
      ]
    },
    {
      "cell_type": "markdown",
      "metadata": {
        "id": "L3x323P2cqMI"
      },
      "source": []
    },
    {
      "cell_type": "markdown",
      "metadata": {
        "id": "1RoWejtwZNM1"
      },
      "source": []
    },
    {
      "cell_type": "markdown",
      "metadata": {
        "id": "Z2SylKGkd-sj"
      },
      "source": [
        "# **Practical Questions...**"
      ]
    },
    {
      "cell_type": "code",
      "execution_count": null,
      "metadata": {
        "colab": {
          "base_uri": "https://localhost:8080/"
        },
        "id": "33Zy74C_Krlu",
        "outputId": "06d7223f-3d12-4a29-b4cc-321b99632b15"
      },
      "outputs": [
        {
          "name": "stdout",
          "output_type": "stream",
          "text": [
            " * Serving Flask app '__main__'\n",
            " * Debug mode: on\n"
          ]
        },
        {
          "name": "stderr",
          "output_type": "stream",
          "text": [
            "INFO:werkzeug:\u001b[31m\u001b[1mWARNING: This is a development server. Do not use it in a production deployment. Use a production WSGI server instead.\u001b[0m\n",
            " * Running on http://127.0.0.1:5000\n",
            "INFO:werkzeug:\u001b[33mPress CTRL+C to quit\u001b[0m\n",
            "INFO:werkzeug: * Restarting with stat\n"
          ]
        }
      ],
      "source": [
        "#1) How do you create a basic Flask application?\n",
        "\n",
        "from flask import Flask\n",
        "\n",
        "app = Flask(__name__)\n",
        "\n",
        "@app.route('/')\n",
        "def home():\n",
        "    return \"Hello, World!\"\n",
        "\n",
        "if __name__ == '__main__':\n",
        "    app.run(debug=True)"
      ]
    },
    {
      "cell_type": "code",
      "execution_count": null,
      "metadata": {
        "colab": {
          "base_uri": "https://localhost:8080/"
        },
        "id": "RvV_vnplex62",
        "outputId": "25b630c6-7d56-4f96-f22f-25f53dc39eee"
      },
      "outputs": [
        {
          "name": "stdout",
          "output_type": "stream",
          "text": [
            " * Serving Flask app '__main__'\n",
            " * Debug mode: on\n"
          ]
        },
        {
          "name": "stderr",
          "output_type": "stream",
          "text": [
            "INFO:werkzeug:\u001b[31m\u001b[1mWARNING: This is a development server. Do not use it in a production deployment. Use a production WSGI server instead.\u001b[0m\n",
            " * Running on http://127.0.0.1:5000\n",
            "INFO:werkzeug:\u001b[33mPress CTRL+C to quit\u001b[0m\n",
            "INFO:werkzeug: * Restarting with stat\n"
          ]
        }
      ],
      "source": [
        "#2) How do you serve static files like images or CSS in Flask?\n",
        "\n",
        "from flask import Flask, render_template\n",
        "\n",
        "app = Flask(__name__)\n",
        "\n",
        "@app.route('/static/')\n",
        "def send_static(filename):\n",
        "    return send_from_directory('static', filename)\n",
        "\n",
        "if __name__ == '__main__':\n",
        "    app.run(debug=True)\n"
      ]
    },
    {
      "cell_type": "code",
      "execution_count": null,
      "metadata": {
        "colab": {
          "background_save": true,
          "base_uri": "https://localhost:8080/"
        },
        "id": "xZAe8XNdh6Mc",
        "outputId": "ead80553-c6ba-4e08-90d2-3b59451a7fb6"
      },
      "outputs": [
        {
          "name": "stdout",
          "output_type": "stream",
          "text": [
            " * Serving Flask app '__main__'\n",
            " * Debug mode: on\n"
          ]
        },
        {
          "name": "stderr",
          "output_type": "stream",
          "text": [
            "INFO:werkzeug:\u001b[31m\u001b[1mWARNING: This is a development server. Do not use it in a production deployment. Use a production WSGI server instead.\u001b[0m\n",
            " * Running on http://127.0.0.1:5000\n",
            "INFO:werkzeug:\u001b[33mPress CTRL+C to quit\u001b[0m\n",
            "INFO:werkzeug: * Restarting with stat\n"
          ]
        }
      ],
      "source": [
        "#3) How do you define different routes with different HTTP methods in Flask?\n",
        "\n",
        "from flask import Flask\n",
        "app = Flask(__name__)\n",
        "\n",
        "@app.route('/greet', methods=['GET'])\n",
        "def greet():\n",
        "    return \"Hello, World!\"\n",
        "\n",
        "if __name__ == '__main__':\n",
        "    app.run(debug=True)"
      ]
    },
    {
      "cell_type": "code",
      "execution_count": null,
      "metadata": {
        "colab": {
          "background_save": true,
          "base_uri": "https://localhost:8080/"
        },
        "id": "GQoQBAhFiAtT",
        "outputId": "36e22ecb-643b-44df-b983-2c438d96395d"
      },
      "outputs": [
        {
          "name": "stdout",
          "output_type": "stream",
          "text": [
            " * Serving Flask app '__main__'\n",
            " * Debug mode: on\n"
          ]
        },
        {
          "name": "stderr",
          "output_type": "stream",
          "text": [
            "INFO:werkzeug:\u001b[31m\u001b[1mWARNING: This is a development server. Do not use it in a production deployment. Use a production WSGI server instead.\u001b[0m\n",
            " * Running on http://127.0.0.1:5000\n",
            "INFO:werkzeug:\u001b[33mPress CTRL+C to quit\u001b[0m\n",
            "INFO:werkzeug: * Restarting with stat\n"
          ]
        }
      ],
      "source": [
        "#4) How do you render HTML templates in flask?\n",
        "\n",
        "from flask import Flask, render_template\n",
        "\n",
        "app = Flask(__name__)\n",
        "\n",
        "@app.route('/')\n",
        "def index():\n",
        "    return render_template('index.html')\n",
        "\n",
        "if __name__ == '__main__':\n",
        "    app.run(debug=True)"
      ]
    },
    {
      "cell_type": "code",
      "execution_count": null,
      "metadata": {
        "colab": {
          "background_save": true,
          "base_uri": "https://localhost:8080/"
        },
        "id": "St-HsxLbVsee",
        "outputId": "c2716c4c-7c97-48dc-a9e2-b8aec07cb003"
      },
      "outputs": [
        {
          "metadata": {
            "tags": null
          },
          "name": "stdout",
          "output_type": "stream",
          "text": [
            " * Serving Flask app '__main__'\n",
            " * Debug mode: on\n"
          ]
        },
        {
          "metadata": {
            "tags": null
          },
          "name": "stderr",
          "output_type": "stream",
          "text": [
            "INFO:werkzeug:\u001b[31m\u001b[1mWARNING: This is a development server. Do not use it in a production deployment. Use a production WSGI server instead.\u001b[0m\n",
            " * Running on http://127.0.0.1:5000\n",
            "INFO:werkzeug:\u001b[33mPress CTRL+C to quit\u001b[0m\n",
            "INFO:werkzeug: * Restarting with stat\n"
          ]
        }
      ],
      "source": [
        "#5)  How can you generate URLs for routes in Flask using url_for?\n",
        "\n",
        "from flask import Flask, url_for, redirect\n",
        "\n",
        "app = Flask(__name__)\n",
        "\n",
        "@app.route('/')\n",
        "def home():\n",
        "    return f'Go to the <a href=\"{url_for(\"about\")}\">About Page</a>'\n",
        "\n",
        "@app.route('/about')\n",
        "def about():\n",
        "    return \"This is the About Page\"\n",
        "\n",
        "if __name__ == '__main__':\n",
        "    app.run(debug=True)\n"
      ]
    },
    {
      "cell_type": "code",
      "execution_count": null,
      "metadata": {
        "colab": {
          "base_uri": "https://localhost:8080/"
        },
        "id": "FH1PdXOQWUbq",
        "outputId": "fbfce725-f5b4-4923-ad64-cd70b99e5fcc"
      },
      "outputs": [
        {
          "name": "stdout",
          "output_type": "stream",
          "text": [
            " * Serving Flask app '__main__'\n",
            " * Debug mode: on\n"
          ]
        },
        {
          "name": "stderr",
          "output_type": "stream",
          "text": [
            "INFO:werkzeug:\u001b[31m\u001b[1mWARNING: This is a development server. Do not use it in a production deployment. Use a production WSGI server instead.\u001b[0m\n",
            " * Running on http://127.0.0.1:5000\n",
            "INFO:werkzeug:\u001b[33mPress CTRL+C to quit\u001b[0m\n",
            "INFO:werkzeug: * Restarting with stat\n"
          ]
        }
      ],
      "source": [
        "#6) How do you handle forms in Flask?\n",
        "\n",
        "from flask import Flask, request, render_template\n",
        "\n",
        "app = Flask(__name__)\n",
        "\n",
        "@app.route('/')\n",
        "def index():\n",
        "    return render_template('form.html')\n",
        "\n",
        "@app.route('/submit', methods=['POST'])\n",
        "def submit():\n",
        "    name = request.form['name']\n",
        "    return f\"Hello, {name}!\"\n",
        "\n",
        "if __name__ == '__main__':\n",
        "    app.run(debug=True)\n"
      ]
    },
    {
      "cell_type": "code",
      "execution_count": null,
      "metadata": {
        "id": "zjNZ3faJZazE"
      },
      "outputs": [],
      "source": [
        "#7) How can you validate form data in Flask?\n",
        "\n",
        "from flask import Flask, request\n",
        "\n",
        "app = Flask(__name__)\n",
        "app.secret_key = 'secret'\n",
        "\n",
        "@app.route('\\login', methods=['POST'])\n",
        "def login():\n",
        "    username = request.form['username']\n",
        "    if not username:\n",
        "      flash('Username is required!')\n",
        "      return redirect(url_for('login'))\n",
        "    return 'Login successful'\n",
        "\n",
        "\n",
        "if __name__ == '__main__':\n",
        "    app.run(debug=True)\n",
        "\n"
      ]
    },
    {
      "cell_type": "code",
      "execution_count": null,
      "metadata": {
        "id": "YblwZOJL3txG"
      },
      "outputs": [],
      "source": [
        "# 8) How do you manage sessions in Flask?\n",
        "\n",
        "from flask import flask, session\n",
        "app = flask(__name__)\n",
        "app.secret_key = 'secret'\n",
        "\n",
        "@app.route('\\set_user')\n",
        "def set_user():\n",
        "    session['username'] = 'John Doe'\n",
        "    return 'User session set'\n",
        "\n",
        "@app.route('\\get_user')\n",
        "def get_user():\n",
        "    return f'logged in as {session.get(\"user\", \"Guest\")}'\n",
        "\n",
        "if __name__ == '__main__':\n",
        "    app.run(debug=True)"
      ]
    },
    {
      "cell_type": "code",
      "execution_count": null,
      "metadata": {
        "id": "BVwt1Cc24-Sb"
      },
      "outputs": [],
      "source": [
        "#9)  How do you redirect to a different route in Flask?\n",
        "\n",
        "from flask import flask, redirect, url_for\n",
        "app = Flask(__name__)\n",
        "\n",
        "@app.route('/redirect_home')\n",
        "def redirect_home():\n",
        "    return redirect(url_for('home'))\n",
        "\n",
        "@app.route('/home')\n",
        "def home():\n",
        "    return 'Welcome to the home page'\n",
        "\n",
        "if __name__ == '__main__':\n",
        "    app.run(debug=True)"
      ]
    },
    {
      "cell_type": "code",
      "execution_count": null,
      "metadata": {
        "id": "QPczlrsH5oS1"
      },
      "outputs": [],
      "source": [
        "#10) How do you handle errors in Flask (e.g., 404)?\n",
        "\n",
        "from flask import Flask\n",
        "\n",
        "app = Flask(__name__)\n",
        "\n",
        "@app.route('/')\n",
        "def home():\n",
        "    return 'Welcome to the Home Page!'\n",
        "\n",
        "@app.errorhandler(404)\n",
        "def page_not_found(e):\n",
        "    return 'Oops! Page not found (404).', 404\n",
        "\n",
        "if __name__ == '__main__':\n",
        "    app.run(debug=True)\n"
      ]
    },
    {
      "cell_type": "code",
      "execution_count": null,
      "metadata": {
        "id": "LpgS6oEU57AL"
      },
      "outputs": [],
      "source": [
        "#11)  How do you structure a Flask app using Blueprints?\n",
        "\n",
        "from flask import Flask, Blueprint\n",
        "app = Flask(__name__)\n",
        "\n",
        "bp = Blueprint('home', __name__)\n",
        "\n",
        "@bp.route('/')\n",
        "def index():\n",
        "  __name__ == '__main__':\n",
        "  app.run(debug=True)"
      ]
    },
    {
      "cell_type": "code",
      "execution_count": null,
      "metadata": {
        "id": "oN2Xa5Vw6n6u"
      },
      "outputs": [],
      "source": [
        "#12)  How do you define a custom Jinja filter in Flask?\n",
        "\n",
        "from flask import Flask\n",
        "app = Flask(__name__)\n",
        "\n",
        "@app.template_filter('reverse')\n",
        "def reverse_string(s):\n",
        "    return s[::-1]\n",
        "\n",
        "@app.route('/')\n",
        "def home():\n",
        "    return render_template('home.html', name= 'Flask')\n",
        "\n",
        "if __name__ == '__main__':\n",
        "    app.run(debug=True)"
      ]
    },
    {
      "cell_type": "code",
      "execution_count": null,
      "metadata": {
        "id": "U2wQjmji64aP"
      },
      "outputs": [],
      "source": [
        "#13) from flask import Flask, redirect, url_for, request\n",
        "\n",
        "app = Flask(__name__)\n",
        "\n",
        "@app.route('/')\n",
        "def home():\n",
        "    return redirect(url_for('greet', name='Zoya', age=25))\n",
        "\n",
        "@app.route('/greet')\n",
        "def greet():\n",
        "    name = request.args.get('name')\n",
        "    age = request.args.get('age')\n",
        "    return f'Hello {zoya}, you are {22} years old!'\n",
        "\n",
        "if __name__ == '__main__':\n",
        "    app.run(debug=True)\n"
      ]
    },
    {
      "cell_type": "code",
      "execution_count": null,
      "metadata": {
        "id": "Jw-sejOh7eJA"
      },
      "outputs": [],
      "source": [
        "#14) M How do you return JSON responses in Flask?\n",
        "\n",
        "from flask import Flask, jsonify\n",
        "\n",
        "app = Flask(__name__)\n",
        "\n",
        "@app.route('/api/data')\n",
        "def get_data():\n",
        "    data = {'message': 'Hello, World!'}\n",
        "    return jsonify(data)\n",
        "\n",
        "\n",
        "if __name__ == '__main__':\n",
        "    app.run(debug=True)"
      ]
    },
    {
      "cell_type": "code",
      "execution_count": null,
      "metadata": {
        "id": "sRzt5lKV8KTJ"
      },
      "outputs": [],
      "source": [
        "#15) How do you capture URL parameters in Flask?\n",
        "\n",
        "from flask import flask\n",
        "app = Flaskk(__name__)\n",
        "\n",
        "@app.route('/user/')\n",
        "def user(username):\n",
        "    return f'Hello, {username}!\"\n",
        "\n",
        "if __name__ == '__main__':\n",
        "    app.run(debug=True)"
      ]
    }
  ],
  "metadata": {
    "colab": {
      "provenance": []
    },
    "kernelspec": {
      "display_name": "Python 3",
      "name": "python3"
    },
    "language_info": {
      "name": "python"
    }
  },
  "nbformat": 4,
  "nbformat_minor": 0
}